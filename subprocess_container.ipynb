{
 "cells": [
  {
   "cell_type": "code",
   "execution_count": null,
   "metadata": {},
   "outputs": [],
   "source": [
    "#Import libraries\n",
    "import os\n",
    "import sys\n",
    "import gc\n",
    "import arcpy\n",
    "from arcpy import env\n",
    "from arcpy.sa import *\n",
    "import time\n",
    "import traceback\n",
    "import tempfile\n",
    "import math\n",
    "import subprocess\n",
    "import shutil"
   ]
  },
  {
   "cell_type": "code",
   "execution_count": null,
   "metadata": {},
   "outputs": [],
   "source": [
    "#Pull in data\n",
    "#Set environments\n",
    "tiles = \"C:/Users/amaxwel6/Dropbox/Teaching_WVU/Spatial_Analystics/website_production/Exercises/slope_failure_pred/\"\n",
    "dem = \"D:/v_r_landslide/inputs/dem_2m.tif\"\n",
    "\n",
    "\n",
    "env.overwriteOutput = True\n",
    "arcpy.env.pyramids = \"NONE\"\n",
    "arcpy.env.rasterStatistics = \"NONE\"\n",
    "arcpy.env.compression = \"NONE\"\n",
    "env.snapRaster = \"D:/v_r_landslide/inputs/dem_2m.tif\""
   ]
  },
  {
   "cell_type": "code",
   "execution_count": null,
   "metadata": {},
   "outputs": [],
   "source": [
    "#Split tile data so that each tile is written to a separate shapefile\n",
    "with arcpy.da.SearchCursor(tiles,['SHAPE@','tile_num']) as rows:\n",
    "    for row in rows:   \n",
    "        tnum = row[1]\n",
    "        arcpy.env.workspace = \"D:/v_r_landslide/shp_out\"\n",
    "        arcpy.env.scratchWorkspace = \"D:/v_r_landslide/scratch\"\n",
    "        where_clause = \"\\\"tile_num\\\" = \" + str(tnum)\n",
    "        arcpy.Select_analysis(tiles, \"tile\" + str(row[1]), where_clause)"
   ]
  },
  {
   "cell_type": "code",
   "execution_count": null,
   "metadata": {},
   "outputs": [],
   "source": [
    "#List all tiles\n",
    "arcpy.env.workspace = \"D:/v_r_landslide/shp_out\"\n",
    "shp_lst = arcpy.ListFeatureClasses()   \n",
    "arcpy.env.workspace = \"D:/v_r_landslide/temp\"\n",
    "print(shp_lst)\n",
    "print(len(shp_lst))"
   ]
  },
  {
   "cell_type": "code",
   "execution_count": null,
   "metadata": {},
   "outputs": [],
   "source": [
    "#Execute subprocess code for all tiles using a for loop. \n",
    "#Feed tile name as a variable to subprocess.\n",
    "for shp in shp_lst:\n",
    "    name = str(shp)\n",
    "    tile = [shp]\n",
    "    subprocess.call([\"python\", \"predict_to_grid_subscript.py\"] + tile, shell=True)\n",
    "    arcpy.CopyRaster_management(\"D:/v_r_landslide\\out_grids\", \"D:/v_r_landslide/pred_out\" + str(os.path.splitext(shp)[0]) + \".tif\"\n",
    "    print(\"Process complete for \" + name + \"!\")"
   ]
  }
 ],
 "metadata": {
  "kernelspec": {
   "display_name": "Python 3",
   "language": "python",
   "name": "python3"
  },
  "language_info": {
   "codemirror_mode": {
    "name": "ipython",
    "version": 3
   },
   "file_extension": ".py",
   "mimetype": "text/x-python",
   "name": "python",
   "nbconvert_exporter": "python",
   "pygments_lexer": "ipython3",
   "version": "3.8.5"
  }
 },
 "nbformat": 4,
 "nbformat_minor": 2
}
